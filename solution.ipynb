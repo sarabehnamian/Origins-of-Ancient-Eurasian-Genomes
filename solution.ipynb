{
  "cells": [
    {
      "cell_type": "markdown",
      "metadata": {},
      "source": [
        "## Solution Steps: \n",
        "\n",
        "1. Data access\n",
        "2. Data exploration (initial data analysis)  \n",
        "   2.1. Exploration of features and target distribution  \n",
        "3. Data Preparation  \n",
        "   3.1. Clean the data  \n",
        "   3.2. Filter important features  \n",
        "   3.3. Check for missing values     \n",
        "   3.4. Feature engineering (feature extraction, feature selection)  \n",
        "4. Train the model\n",
        "5. Use the model (Prediction)\n",
        "6. Evaluate the model (accuracy)"
      ]
    },
    {
      "cell_type": "markdown",
      "metadata": {
        "id": "AccqhzGZTJND"
      },
      "source": [
        "## **Import Libraries**"
      ]
    },
    {
      "cell_type": "code",
      "execution_count": 1,
      "metadata": {
        "id": "mGn9F5FyOshY"
      },
      "outputs": [],
      "source": [
        "import pandas as pd\n",
        "import numpy as np\n",
        "import seaborn as sns\n",
        "import matplotlib.pyplot as plt\n",
        "from scipy import stats\n",
        "from scipy.stats import zscore,norm\n",
        "from sklearn.model_selection import train_test_split\n",
        "from IPython.display import display\n",
        "from sklearn import metrics\n",
        "from sklearn.ensemble import RandomForestRegressor\n",
        "from sklearn.model_selection import KFold\n",
        "import random\n",
        "import pickle\n",
        "import warnings\n",
        "warnings.filterwarnings('ignore')"
      ]
    },
    {
      "cell_type": "markdown",
      "metadata": {
        "id": "BAUwKmgzQfrv"
      },
      "source": [
        "## **Data Access** ##"
      ]
    },
    {
      "cell_type": "markdown",
      "metadata": {
        "id": "lgWzQIHRhFHB"
      },
      "source": [
        "We have two main datasets, **Ancients** and **Moderns**.\n",
        "\n",
        " Ancient genomes from Europe and Asia are found in Ancients, while Eurasian genomes with a DataBP of 10 are found in Moderns.\n",
        "\n",
        "**Note:** \n",
        "Dataset files should be available in the data folder (Eurasian.xlsx, Eurasian_modern_samples.csv, 20130606_sample_info.xlsx, and Test Cases.xlsx). "
      ]
    },
    {
      "cell_type": "code",
      "execution_count": 2,
      "metadata": {
        "id": "YFw0ajadIr6F"
      },
      "outputs": [],
      "source": [
        "baseDir='data'\n",
        "#ancient samples\n",
        "dataset =  pd.ExcelFile(f\"{baseDir}/Eurasian - Dataset_tims.xlsx\")\n",
        "Eurasian = pd.read_excel(dataset, 'Eurasian')\n",
        "Ancients = Eurasian[[ 'AncientComponent1', 'AncientComponent2','AncientComponent3', 'AncientComponent4', 'AncientComponent5', 'ModernComponent1',\n",
        "                'ModernComponent2', 'ModernComponent3', 'Date mean in BP in years before 1950 CE [OxCal mu for a direct radiocarbon date, and average of range for a contextual date]'\n",
        "                ,'Method for Determining Date; unless otherwise specified, calibrations use 95.4% intervals from OxCal v4.4.2 Bronk Ramsey (2009); r:5; Atmospheric data from Reimer et al (2020)'\n",
        "                , 'Sample ID', 'Country'\n",
        "                ,'Date standard deviation in BP [OxCal sigma for a direct radiocarbon date, and standard deviation of the uniform disribution between the two bounds for a contextual date]'              \n",
        "]]\n",
        "\n",
        "Ancients.rename(columns={\n",
        "    'Method for Determining Date; unless otherwise specified, calibrations use 95.4% intervals from OxCal v4.4.2 Bronk Ramsey (2009); r:5; Atmospheric data from Reimer et al (2020)':'Dating',\n",
        "    'Date standard deviation in BP [OxCal sigma for a direct radiocarbon date, and standard deviation of the uniform disribution between the two bounds for a contextual date]':'STD',\n",
        "    'Date mean in BP in years before 1950 CE [OxCal mu for a direct radiocarbon date, and average of range for a contextual date]':'Mean date (BP)'\n",
        "},inplace=True)\n",
        "\n",
        "# modern samples (DateBP = 10)\n",
        "modern = pd.read_csv(f\"{baseDir}/Eurasian_modern_samples.csv\")\n",
        "modern = modern[[ 'AncientComponent1', 'AncientComponent2','AncientComponent3','AncientComponent4', 'AncientComponent5', 'ModernComponent1',\n",
        "                                'ModernComponent2','ModernComponent3', 'DateBP', 'Sample ID']] \n",
        "modern.rename(columns = {'DateBP':'Mean date (BP)'}, inplace=True) \n",
        "\n",
        "#modern samples' annotation\n",
        "modern_annotation = pd.read_excel(f\"{baseDir}/20130606_sample_info.xlsx\")\n",
        "modern_annotation.rename(columns = {'Sample':'Sample ID'}, inplace=True) \n",
        "modern_annotation.rename(columns = {'Population':'Country'}, inplace=True) \n",
        "Moderns = pd.merge(modern_annotation, modern, on=[\"Sample ID\"])\n",
        "Moderns['Dating'] = np.nan\n",
        "Moderns = Moderns[['AncientComponent1', 'AncientComponent2','AncientComponent3', 'AncientComponent4', 'AncientComponent5', 'ModernComponent1',\n",
        "                'ModernComponent2', 'ModernComponent3', 'Mean date (BP)', 'Dating', 'Sample ID', 'Country']]\n",
        "\n",
        "#test_cases\n",
        "test_cases = pd.ExcelFile(f\"{baseDir}/Test Cases.xlsx\")\n",
        "Brandysek_inds = pd.read_excel(test_cases, 'Brandysek inds')\n",
        "Brandysek_inds = Brandysek_inds.iloc[0:14,:]\n",
        "Brandysek_inds.rename(columns={'Version ID':'Sample ID'},inplace=True)\n",
        "\n",
        "Moderns['STD'] = 0 "
      ]
    },
    {
      "cell_type": "markdown",
      "metadata": {
        "id": "npTlJOMtWUXe"
      },
      "source": [
        "## **Data Exploration (Initial Data Analysis)** ##"
      ]
    },
    {
      "cell_type": "code",
      "execution_count": 3,
      "metadata": {
        "id": "hA70RMGbWCa0"
      },
      "outputs": [
        {
          "name": "stdout",
          "output_type": "stream",
          "text": [
            "<class 'pandas.core.frame.DataFrame'>\n",
            "RangeIndex: 4158 entries, 0 to 4157\n",
            "Data columns (total 13 columns):\n",
            " #   Column             Non-Null Count  Dtype  \n",
            "---  ------             --------------  -----  \n",
            " 0   AncientComponent1  4158 non-null   float64\n",
            " 1   AncientComponent2  4158 non-null   float64\n",
            " 2   AncientComponent3  4158 non-null   float64\n",
            " 3   AncientComponent4  4158 non-null   float64\n",
            " 4   AncientComponent5  4158 non-null   float64\n",
            " 5   ModernComponent1   4158 non-null   float64\n",
            " 6   ModernComponent2   4158 non-null   float64\n",
            " 7   ModernComponent3   4158 non-null   float64\n",
            " 8   Mean date (BP)     4158 non-null   int64  \n",
            " 9   Dating             4158 non-null   object \n",
            " 10  Sample ID          4158 non-null   object \n",
            " 11  Country            4158 non-null   object \n",
            " 12  STD                4158 non-null   int64  \n",
            "dtypes: float64(8), int64(2), object(3)\n",
            "memory usage: 422.4+ KB\n",
            "None\n"
          ]
        },
        {
          "data": {
            "text/html": [
              "<div>\n",
              "<style scoped>\n",
              "    .dataframe tbody tr th:only-of-type {\n",
              "        vertical-align: middle;\n",
              "    }\n",
              "\n",
              "    .dataframe tbody tr th {\n",
              "        vertical-align: top;\n",
              "    }\n",
              "\n",
              "    .dataframe thead th {\n",
              "        text-align: right;\n",
              "    }\n",
              "</style>\n",
              "<table border=\"1\" class=\"dataframe\">\n",
              "  <thead>\n",
              "    <tr style=\"text-align: right;\">\n",
              "      <th></th>\n",
              "      <th>AncientComponent1</th>\n",
              "      <th>AncientComponent2</th>\n",
              "      <th>AncientComponent3</th>\n",
              "      <th>AncientComponent4</th>\n",
              "      <th>AncientComponent5</th>\n",
              "      <th>ModernComponent1</th>\n",
              "      <th>ModernComponent2</th>\n",
              "      <th>ModernComponent3</th>\n",
              "      <th>Mean date (BP)</th>\n",
              "      <th>Dating</th>\n",
              "      <th>Sample ID</th>\n",
              "      <th>Country</th>\n",
              "      <th>STD</th>\n",
              "    </tr>\n",
              "  </thead>\n",
              "  <tbody>\n",
              "    <tr>\n",
              "      <th>0</th>\n",
              "      <td>0.000011</td>\n",
              "      <td>0.000010</td>\n",
              "      <td>0.999929</td>\n",
              "      <td>0.000010</td>\n",
              "      <td>0.00001</td>\n",
              "      <td>0.000010</td>\n",
              "      <td>0.00001</td>\n",
              "      <td>0.000010</td>\n",
              "      <td>5162</td>\n",
              "      <td>Direct: IntCal20</td>\n",
              "      <td>I1658</td>\n",
              "      <td>Armenia</td>\n",
              "      <td>80</td>\n",
              "    </tr>\n",
              "    <tr>\n",
              "      <th>1</th>\n",
              "      <td>0.243402</td>\n",
              "      <td>0.025254</td>\n",
              "      <td>0.009610</td>\n",
              "      <td>0.136992</td>\n",
              "      <td>0.00001</td>\n",
              "      <td>0.009278</td>\n",
              "      <td>0.56163</td>\n",
              "      <td>0.013823</td>\n",
              "      <td>5166</td>\n",
              "      <td>Direct: IntCal20</td>\n",
              "      <td>1H07.SG</td>\n",
              "      <td>France</td>\n",
              "      <td>79</td>\n",
              "    </tr>\n",
              "    <tr>\n",
              "      <th>2</th>\n",
              "      <td>0.255344</td>\n",
              "      <td>0.017537</td>\n",
              "      <td>0.000010</td>\n",
              "      <td>0.095890</td>\n",
              "      <td>0.00001</td>\n",
              "      <td>0.011373</td>\n",
              "      <td>0.60052</td>\n",
              "      <td>0.019316</td>\n",
              "      <td>4950</td>\n",
              "      <td>Direct: IntCal20</td>\n",
              "      <td>1H13.SG</td>\n",
              "      <td>France</td>\n",
              "      <td>53</td>\n",
              "    </tr>\n",
              "  </tbody>\n",
              "</table>\n",
              "</div>"
            ],
            "text/plain": [
              "   AncientComponent1  AncientComponent2  AncientComponent3  AncientComponent4  \\\n",
              "0           0.000011           0.000010           0.999929           0.000010   \n",
              "1           0.243402           0.025254           0.009610           0.136992   \n",
              "2           0.255344           0.017537           0.000010           0.095890   \n",
              "\n",
              "   AncientComponent5  ModernComponent1  ModernComponent2  ModernComponent3  \\\n",
              "0            0.00001          0.000010           0.00001          0.000010   \n",
              "1            0.00001          0.009278           0.56163          0.013823   \n",
              "2            0.00001          0.011373           0.60052          0.019316   \n",
              "\n",
              "   Mean date (BP)            Dating Sample ID  Country  STD  \n",
              "0            5162  Direct: IntCal20     I1658  Armenia   80  \n",
              "1            5166  Direct: IntCal20   1H07.SG   France   79  \n",
              "2            4950  Direct: IntCal20   1H13.SG   France   53  "
            ]
          },
          "metadata": {},
          "output_type": "display_data"
        },
        {
          "name": "stdout",
          "output_type": "stream",
          "text": [
            "<class 'pandas.core.frame.DataFrame'>\n",
            "Int64Index: 1307 entries, 0 to 1306\n",
            "Data columns (total 13 columns):\n",
            " #   Column             Non-Null Count  Dtype  \n",
            "---  ------             --------------  -----  \n",
            " 0   AncientComponent1  1307 non-null   float64\n",
            " 1   AncientComponent2  1307 non-null   float64\n",
            " 2   AncientComponent3  1307 non-null   float64\n",
            " 3   AncientComponent4  1307 non-null   float64\n",
            " 4   AncientComponent5  1307 non-null   float64\n",
            " 5   ModernComponent1   1307 non-null   float64\n",
            " 6   ModernComponent2   1307 non-null   float64\n",
            " 7   ModernComponent3   1307 non-null   float64\n",
            " 8   Mean date (BP)     1307 non-null   int64  \n",
            " 9   Dating             0 non-null      float64\n",
            " 10  Sample ID          1307 non-null   object \n",
            " 11  Country            1307 non-null   object \n",
            " 12  STD                1307 non-null   int64  \n",
            "dtypes: float64(9), int64(2), object(2)\n",
            "memory usage: 143.0+ KB\n",
            "None\n"
          ]
        },
        {
          "data": {
            "text/html": [
              "<div>\n",
              "<style scoped>\n",
              "    .dataframe tbody tr th:only-of-type {\n",
              "        vertical-align: middle;\n",
              "    }\n",
              "\n",
              "    .dataframe tbody tr th {\n",
              "        vertical-align: top;\n",
              "    }\n",
              "\n",
              "    .dataframe thead th {\n",
              "        text-align: right;\n",
              "    }\n",
              "</style>\n",
              "<table border=\"1\" class=\"dataframe\">\n",
              "  <thead>\n",
              "    <tr style=\"text-align: right;\">\n",
              "      <th></th>\n",
              "      <th>AncientComponent1</th>\n",
              "      <th>AncientComponent2</th>\n",
              "      <th>AncientComponent3</th>\n",
              "      <th>AncientComponent4</th>\n",
              "      <th>AncientComponent5</th>\n",
              "      <th>ModernComponent1</th>\n",
              "      <th>ModernComponent2</th>\n",
              "      <th>ModernComponent3</th>\n",
              "      <th>Mean date (BP)</th>\n",
              "      <th>Dating</th>\n",
              "      <th>Sample ID</th>\n",
              "      <th>Country</th>\n",
              "      <th>STD</th>\n",
              "    </tr>\n",
              "  </thead>\n",
              "  <tbody>\n",
              "    <tr>\n",
              "      <th>0</th>\n",
              "      <td>0.066929</td>\n",
              "      <td>0.040100</td>\n",
              "      <td>0.003131</td>\n",
              "      <td>0.035866</td>\n",
              "      <td>0.014960</td>\n",
              "      <td>0.001272</td>\n",
              "      <td>0.822988</td>\n",
              "      <td>0.014754</td>\n",
              "      <td>10</td>\n",
              "      <td>NaN</td>\n",
              "      <td>HG00096</td>\n",
              "      <td>GBR</td>\n",
              "      <td>0</td>\n",
              "    </tr>\n",
              "    <tr>\n",
              "      <th>1</th>\n",
              "      <td>0.073446</td>\n",
              "      <td>0.047749</td>\n",
              "      <td>0.002356</td>\n",
              "      <td>0.030496</td>\n",
              "      <td>0.007208</td>\n",
              "      <td>0.005035</td>\n",
              "      <td>0.819372</td>\n",
              "      <td>0.014338</td>\n",
              "      <td>10</td>\n",
              "      <td>NaN</td>\n",
              "      <td>HG00097</td>\n",
              "      <td>GBR</td>\n",
              "      <td>0</td>\n",
              "    </tr>\n",
              "    <tr>\n",
              "      <th>2</th>\n",
              "      <td>0.066791</td>\n",
              "      <td>0.052471</td>\n",
              "      <td>0.000010</td>\n",
              "      <td>0.031622</td>\n",
              "      <td>0.013156</td>\n",
              "      <td>0.003371</td>\n",
              "      <td>0.826157</td>\n",
              "      <td>0.006421</td>\n",
              "      <td>10</td>\n",
              "      <td>NaN</td>\n",
              "      <td>HG00099</td>\n",
              "      <td>GBR</td>\n",
              "      <td>0</td>\n",
              "    </tr>\n",
              "  </tbody>\n",
              "</table>\n",
              "</div>"
            ],
            "text/plain": [
              "   AncientComponent1  AncientComponent2  AncientComponent3  AncientComponent4  \\\n",
              "0           0.066929           0.040100           0.003131           0.035866   \n",
              "1           0.073446           0.047749           0.002356           0.030496   \n",
              "2           0.066791           0.052471           0.000010           0.031622   \n",
              "\n",
              "   AncientComponent5  ModernComponent1  ModernComponent2  ModernComponent3  \\\n",
              "0           0.014960          0.001272          0.822988          0.014754   \n",
              "1           0.007208          0.005035          0.819372          0.014338   \n",
              "2           0.013156          0.003371          0.826157          0.006421   \n",
              "\n",
              "   Mean date (BP)  Dating Sample ID Country  STD  \n",
              "0              10     NaN   HG00096     GBR    0  \n",
              "1              10     NaN   HG00097     GBR    0  \n",
              "2              10     NaN   HG00099     GBR    0  "
            ]
          },
          "metadata": {},
          "output_type": "display_data"
        }
      ],
      "source": [
        "print(Ancients.info())\n",
        "display(Ancients.head(3))\n",
        "print(Moderns.info())\n",
        "display(Moderns.head(3))"
      ]
    },
    {
      "cell_type": "code",
      "execution_count": 4,
      "metadata": {
        "id": "-BfIbM4by2L6"
      },
      "outputs": [
        {
          "data": {
            "text/plain": [
              "((array([-3.58788103, -3.34962434, -3.21815727, ...,  3.21815727,\n",
              "          3.34962434,  3.58788103]),\n",
              "  array([  90,  124,  126, ..., 9933, 9952, 9992], dtype=int64)),\n",
              " (1952.546304163356, 3925.416305916306, 0.9865907741315159))"
            ]
          },
          "execution_count": 4,
          "metadata": {},
          "output_type": "execute_result"
        },
        {
          "data": {
            "image/png": "[encoded data removed]",
            "text/plain": [
              "<Figure size 432x288 with 1 Axes>"
            ]
          },
          "metadata": {
            "needs_background": "light"
          },
          "output_type": "display_data"
        },
        {
          "data": {
            "image/png": "[encoded data removed]",
            "text/plain": [
              "<Figure size 432x288 with 1 Axes>"
            ]
          },
          "metadata": {
            "needs_background": "light"
          },
          "output_type": "display_data"
        }
      ],
      "source": [
        "sns.distplot(Ancients['Mean date (BP)'], fit = norm) # A frequency distribution plot and the maximum likelihood Gaussian distribution fit\n",
        "fig = plt.figure()\n",
        "stats.probplot(Ancients['Mean date (BP)'], plot=plt) # It generates a probability plot of sample data against the quantiles of a specified theoretical distribution (the normal distribution by default)."
      ]
    },
    {
      "cell_type": "markdown",
      "metadata": {
        "id": "AxSwdV_DFB0d"
      },
      "source": [
        "## **Clean the Data**"
      ]
    },
    {
      "cell_type": "code",
      "execution_count": 5,
      "metadata": {
        "id": "QC8Wl_usdt1p"
      },
      "outputs": [],
      "source": [
        "def outlier_by_zscore(df:pd.DataFrame,column,outliers):\n",
        "    df['is_outlier'] = zscore(df[column])\n",
        "    is_outlier = df['is_outlier'].apply(lambda x: x <= -3 or x >= 3)\n",
        "    df.drop('is_outlier',axis=1,inplace=True)\n",
        "    return df[~is_outlier],outliers.append(df[is_outlier])\n",
        "\n",
        "def preprocess(df:pd.DataFrame,outliers):\n",
        "    df,outliers = outlier_by_zscore(df,'Mean date (BP)',outliers)\n",
        "    df,outliers = outlier_by_zscore(df,'AncientComponent1',outliers)  \n",
        "    df,outliers = outlier_by_zscore(df,'AncientComponent2',outliers)\n",
        "    df,outliers = outlier_by_zscore(df,'AncientComponent3',outliers) \n",
        "    df,outliers = outlier_by_zscore(df,'AncientComponent4',outliers)\n",
        "    df,outliers = outlier_by_zscore(df,'AncientComponent5',outliers)\n",
        "    df,outliers = outlier_by_zscore(df,'ModernComponent1',outliers)\n",
        "    df,outliers = outlier_by_zscore(df,'ModernComponent2',outliers)\n",
        "    df,outliers = outlier_by_zscore(df,'ModernComponent3',outliers)\n",
        "\n",
        "    outliers11 = df[df.STD >= 400]\n",
        "    outliers = outliers.append(outliers11)\n",
        "    df = df[df.STD <400]\n",
        "    return df,outliers\n",
        "outliers:pd.DataFrame = pd.DataFrame()\n",
        "Ancients,outliers = preprocess(Ancients,outliers)\n"
      ]
    },
    {
      "cell_type": "markdown",
      "metadata": {
        "id": "PYyRpF0haVXT"
      },
      "source": [
        "## **Check for Missing Values** "
      ]
    },
    {
      "cell_type": "code",
      "execution_count": 6,
      "metadata": {
        "id": "ZDNN1MgKaXJ6"
      },
      "outputs": [
        {
          "name": "stdout",
          "output_type": "stream",
          "text": [
            "AncientComponent1    0\n",
            "AncientComponent2    0\n",
            "AncientComponent3    0\n",
            "AncientComponent4    0\n",
            "AncientComponent5    0\n",
            "ModernComponent1     0\n",
            "ModernComponent2     0\n",
            "ModernComponent3     0\n",
            "Mean date (BP)       0\n",
            "Dating               0\n",
            "Sample ID            0\n",
            "Country              0\n",
            "STD                  0\n",
            "dtype: int64\n",
            "AncientComponent1       0\n",
            "AncientComponent2       0\n",
            "AncientComponent3       0\n",
            "AncientComponent4       0\n",
            "AncientComponent5       0\n",
            "ModernComponent1        0\n",
            "ModernComponent2        0\n",
            "ModernComponent3        0\n",
            "Mean date (BP)          0\n",
            "Dating               1307\n",
            "Sample ID               0\n",
            "Country                 0\n",
            "STD                     0\n",
            "dtype: int64\n"
          ]
        }
      ],
      "source": [
        "print(Ancients.isnull().sum()) # No missing values are found\n",
        "print(Moderns.isnull().sum()) # No missing values are found, Their Datings are intentionally left blank."
      ]
    },
    {
      "cell_type": "markdown",
      "metadata": {
        "id": "Wqy87DHLbBbt"
      },
      "source": [
        "## **Feature Engineering**"
      ]
    },
    {
      "cell_type": "code",
      "execution_count": 7,
      "metadata": {
        "id": "hFc0EOYbOxPD"
      },
      "outputs": [],
      "source": [
        "#creating new columns based on the values of existing ones\n",
        "Ancients['mean_Ancient_columns'] = Ancients.loc[:,['AncientComponent1',\t'AncientComponent2',\t'AncientComponent3',\t'AncientComponent4',\t'AncientComponent5']].mean(axis=1)  \n",
        "AncientComponent1_mean = Ancients['AncientComponent1'].mean()\n",
        "Ancients['AncientComponent1_diff_mean'] = abs(Ancients['AncientComponent1'] - AncientComponent1_mean)  \n",
        "Ancients['AncientComponent1'] = Ancients['AncientComponent1']+(3*Ancients['AncientComponent1_diff_mean'])\n",
        "\n",
        "Moderns['mean_Ancient_columns'] = Moderns.loc[:,['AncientComponent1',\t'AncientComponent2',\t'AncientComponent3',\t'AncientComponent4',\t'AncientComponent5']].mean(axis=1)     \n",
        "Moderns['AncientComponent1_diff_mean'] = abs(Moderns['AncientComponent1'] - AncientComponent1_mean)\n",
        "Moderns['AncientComponent1'] = Moderns['AncientComponent1']+(3*Moderns['AncientComponent1_diff_mean'])"
      ]
    },
    {
      "cell_type": "markdown",
      "metadata": {
        "id": "Sim7UXYXsUZ5"
      },
      "source": [
        "## **Split the Data**\n",
        "\n",
        " ## **Train_set, Test_set (unseen)**"
      ]
    },
    {
      "cell_type": "code",
      "execution_count": 8,
      "metadata": {
        "colab": {
          "base_uri": "https://localhost:8080/"
        },
        "id": "Jc_Ya8d-9STH",
        "outputId": "888aa729-547b-4404-9289-79ce64b0f43d"
      },
      "outputs": [
        {
          "name": "stdout",
          "output_type": "stream",
          "text": [
            "Data for Modeling: (4157, 11)\n",
            "Unseen Data For Predictions(741, 11)\n"
          ]
        }
      ],
      "source": [
        "#set aside test cases as an unseen set\n",
        "Brandysek_inds_in_Ancients = Ancients[Ancients[\"Sample ID\"].isin(Brandysek_inds[\"Sample ID\"].values)]\n",
        "Ancients = Ancients.drop(Brandysek_inds_in_Ancients.index)\n",
        "\n",
        "# To get a better result, we stratified the dataset, so we need to add a few more columns.\n",
        "# create temporary columns\n",
        "Ancients['cut'] = pd.qcut(Ancients['Mean date (BP)'], q = 10, duplicates= 'drop',labels=False, precision = 0) #df was divided into 10 subsets based on DateBP column.\n",
        "Ancients['Country_cut'] = Ancients['cut'].astype(str) + Ancients['Country'].astype(str)\n",
        "count_freq = dict(Ancients['Country_cut'].value_counts())\n",
        "Ancients['count_freq'] = Ancients['Country_cut']\n",
        "Ancients['count_freq'] = Ancients['count_freq'].map(count_freq)\n",
        "train1 = Ancients[Ancients.count_freq == 1] #shape =((63,10), 63 of ancients were repeated once; we keep them for training.\n",
        "Ancients  = Ancients[Ancients.count_freq >1]\n",
        "\n",
        "#stratify ancient genomes based on their ages and locations\n",
        "train_set, test_set = train_test_split(Ancients, test_size = 0.15, random_state = 0, stratify = Ancients['Country_cut']) \n",
        "train_set = train_set.append([train1])\n",
        "\n",
        "# remove temporary columns\n",
        "train_set = train_set[train_set.columns.difference(['Country_cut', 'count_freq', 'cut'])]\n",
        "test_set = test_set[test_set.columns.difference(['Country_cut', 'count_freq', 'cut'])]\n",
        "\n",
        "#stratify modern samples based on their locations\n",
        "Moderns['location'] = Moderns['Country'].astype(str)  #{'CDX': 93,'CEU': 99, 'CHB': 103, 'CHS': 105, 'FIN': 99,'GBR': 91,'IBS': 107,'ITU': 102, 'JPT': 104,'KHV': 99,'PJL': 96,\n",
        "#'STU': 102,'TSI': 107}\n",
        "modern_for_modeling, modern_for_test = train_test_split(Moderns, test_size = 0.15, random_state = 42, stratify = Moderns['location']) \n",
        "modern_for_test = modern_for_test[modern_for_test.columns.difference([ 'location'])]\n",
        "modern_for_modeling = modern_for_modeling[modern_for_modeling.columns.difference([ 'location'])]\n",
        "\n",
        "#train_set, test_set (unseen)\n",
        "test_set = test_set.append([modern_for_test, Brandysek_inds_in_Ancients])\n",
        "test_set = test_set.sample(frac=1) # shuffle the DataFrame rows\n",
        "train_set = train_set.append([modern_for_modeling])\n",
        "train_set = train_set =train_set.sample(frac=1)\n",
        "\n",
        "#drop Sample ID, Counrty, Dating and STD columns    \n",
        "whole_set = train_set.append([test_set])\n",
        "whole_set1 = whole_set.copy()\n",
        "whole_set = whole_set[whole_set.columns.difference(['Sample ID','Dating', 'Country', 'STD'])]\n",
        "train_set1 = train_set.copy()\n",
        "train_set = train_set[train_set.columns.difference(['Sample ID', 'Dating', 'Country','STD'])]\n",
        "test_set1 = test_set.copy()\n",
        "test_set = test_set[test_set.columns.difference(['Sample ID', 'Dating', 'Country', 'STD'])]\n",
        "\n",
        "X_train = train_set[train_set.columns.difference(['Mean date (BP)'])]\n",
        "y_train = train_set['Mean date (BP)']\n",
        "X_test = test_set[test_set.columns.difference(['Mean date (BP)'])]\n",
        "y_test = test_set['Mean date (BP)']\n",
        "X_whole = whole_set[whole_set.columns.difference(['Mean date (BP)'])]\n",
        "y_whole = whole_set['Mean date (BP)']\n",
        "\n",
        "print('Data for Modeling: ' + str(train_set.shape))\n",
        "print('Unseen Data For Predictions' + str(test_set.shape))"
      ]
    },
    {
      "cell_type": "markdown",
      "metadata": {
        "id": "tEcty25_emNA"
      },
      "source": [
        " ## **Train the Model**"
      ]
    },
    {
      "cell_type": "code",
      "execution_count": 9,
      "metadata": {
        "id": "waPyHSJ9XVuJ"
      },
      "outputs": [],
      "source": [
        "def cross_validation(df,target,k=10):\n",
        "  X=df.drop(target,axis=1).values\n",
        "  y=df[target].values\n",
        "  kf = KFold(n_splits=k,shuffle=True,random_state=32)\n",
        "  R2= []\n",
        "  model = []\n",
        "  nth_k=1\n",
        "  nth_K_X_train={}\n",
        "  rf_reg = RandomForestRegressor()\n",
        "  for train_index, val_index in kf.split(X):\n",
        "    X_train, X_val = X[train_index], X[val_index]\n",
        "    y_train, y_val = y[train_index], y[val_index]\n",
        "    nth_K_X_train[nth_k]=X_train\n",
        "    rf_reg.fit(X_train, y_train)\n",
        "    y_val_pred = rf_reg.predict(X_val)\n",
        "    this_k_R2 = rf_reg.score(X_val,y_val)\n",
        "    R2.append(this_k_R2)\n",
        "    model.append(rf_reg)\n",
        "    nth_k+=1 \n",
        "  return model,R2,nth_K_X_train \n",
        "\n",
        "model,R2,nth_K_X_train = cross_validation(df=train_set,target='Mean date (BP)', k=10)\n",
        "\n",
        "k=10\n",
        "random.seed(0)\n",
        "random_fold = random.randrange(0, 10)\n",
        "random_model = model[random_fold]\n",
        "random_X_train = nth_K_X_train[random_fold]\n",
        "loaded_model = random_model\n",
        "\n",
        "# # save the model\n",
        "#pickle.dump(random_model, open( 'random_model.pkl', 'wb'))"
      ]
    },
    {
      "cell_type": "code",
      "execution_count": 10,
      "metadata": {
        "id": "fDwQLXEO43I2"
      },
      "outputs": [],
      "source": [
        "# # load the model from disk\n",
        "# loaded_model = pickle.load(open('/content/drive/MyDrive/ml_models/random_model.pkl', 'rb'))"
      ]
    },
    {
      "cell_type": "markdown",
      "metadata": {
        "id": "B0hUGwusXlqX"
      },
      "source": [
        " ## **Prediction**"
      ]
    },
    {
      "cell_type": "code",
      "execution_count": 11,
      "metadata": {
        "id": "pYJXyCPeqGGz"
      },
      "outputs": [
        {
          "data": {
            "text/html": [
              "<div>\n",
              "<style scoped>\n",
              "    .dataframe tbody tr th:only-of-type {\n",
              "        vertical-align: middle;\n",
              "    }\n",
              "\n",
              "    .dataframe tbody tr th {\n",
              "        vertical-align: top;\n",
              "    }\n",
              "\n",
              "    .dataframe thead th {\n",
              "        text-align: right;\n",
              "    }\n",
              "</style>\n",
              "<table border=\"1\" class=\"dataframe\">\n",
              "  <thead>\n",
              "    <tr style=\"text-align: right;\">\n",
              "      <th></th>\n",
              "      <th>Sample ID</th>\n",
              "      <th>Country</th>\n",
              "      <th>Dating</th>\n",
              "      <th>AncientComponent1</th>\n",
              "      <th>AncientComponent1_diff_mean</th>\n",
              "      <th>AncientComponent2</th>\n",
              "      <th>AncientComponent3</th>\n",
              "      <th>AncientComponent4</th>\n",
              "      <th>AncientComponent5</th>\n",
              "      <th>ModernComponent1</th>\n",
              "      <th>ModernComponent2</th>\n",
              "      <th>ModernComponent3</th>\n",
              "      <th>mean_Ancient_columns</th>\n",
              "      <th>Mean date (BP)</th>\n",
              "      <th>TPS predicted date (BP)</th>\n",
              "      <th>difference</th>\n",
              "    </tr>\n",
              "  </thead>\n",
              "  <tbody>\n",
              "    <tr>\n",
              "      <th>2108</th>\n",
              "      <td>I6696</td>\n",
              "      <td>Czech Republic</td>\n",
              "      <td>Context: Archaeological - Period</td>\n",
              "      <td>0.307824</td>\n",
              "      <td>0.047207</td>\n",
              "      <td>0.194089</td>\n",
              "      <td>0.030475</td>\n",
              "      <td>0.092464</td>\n",
              "      <td>0.036698</td>\n",
              "      <td>0.015366</td>\n",
              "      <td>0.433269</td>\n",
              "      <td>0.031435</td>\n",
              "      <td>0.103986</td>\n",
              "      <td>4575.0</td>\n",
              "      <td>3908.0</td>\n",
              "      <td>667.0</td>\n",
              "    </tr>\n",
              "    <tr>\n",
              "      <th>901</th>\n",
              "      <td>NA07048</td>\n",
              "      <td>CEU</td>\n",
              "      <td>NaN</td>\n",
              "      <td>0.411458</td>\n",
              "      <td>0.099024</td>\n",
              "      <td>0.082195</td>\n",
              "      <td>0.006816</td>\n",
              "      <td>0.062705</td>\n",
              "      <td>0.007039</td>\n",
              "      <td>0.009794</td>\n",
              "      <td>0.684928</td>\n",
              "      <td>0.032137</td>\n",
              "      <td>0.054628</td>\n",
              "      <td>10.0</td>\n",
              "      <td>10.0</td>\n",
              "      <td>0.0</td>\n",
              "    </tr>\n",
              "  </tbody>\n",
              "</table>\n",
              "</div>"
            ],
            "text/plain": [
              "     Sample ID         Country                            Dating  \\\n",
              "2108     I6696  Czech Republic  Context: Archaeological - Period   \n",
              "901    NA07048             CEU                               NaN   \n",
              "\n",
              "      AncientComponent1  AncientComponent1_diff_mean  AncientComponent2  \\\n",
              "2108           0.307824                     0.047207           0.194089   \n",
              "901            0.411458                     0.099024           0.082195   \n",
              "\n",
              "      AncientComponent3  AncientComponent4  AncientComponent5  \\\n",
              "2108           0.030475           0.092464           0.036698   \n",
              "901            0.006816           0.062705           0.007039   \n",
              "\n",
              "      ModernComponent1  ModernComponent2  ModernComponent3  \\\n",
              "2108          0.015366          0.433269          0.031435   \n",
              "901           0.009794          0.684928          0.032137   \n",
              "\n",
              "      mean_Ancient_columns  Mean date (BP)  TPS predicted date (BP)  \\\n",
              "2108              0.103986          4575.0                   3908.0   \n",
              "901               0.054628            10.0                     10.0   \n",
              "\n",
              "      difference  \n",
              "2108       667.0  \n",
              "901          0.0  "
            ]
          },
          "execution_count": 11,
          "metadata": {},
          "output_type": "execute_result"
        }
      ],
      "source": [
        "test_predictions = X_test.copy()\n",
        "test_predictions['Mean date (BP)'] = y_test\n",
        "test_predictions['TPS predicted date (BP)'] = loaded_model.predict(X_test).round()\n",
        "test_predictions = pd.concat([test_set1[['Sample ID', 'Country', 'Dating']],test_predictions],axis=1)\n",
        "test_predictions_final = test_predictions\n",
        "test_predictions_final['Mean date (BP)'] = test_predictions_final['Mean date (BP)'].astype('float')\n",
        "test_predictions_final[\"difference\"] = abs(test_predictions_final['TPS predicted date (BP)']-test_predictions_final['Mean date (BP)'])\n",
        "\n",
        "Whole_predictions = X_whole.copy()\n",
        "Whole_predictions['Mean date (BP)'] = y_whole\n",
        "Whole_predictions['TPS predicted date (BP)'] = loaded_model.predict(X_whole).round()\n",
        "Whole_predictions = pd.concat([whole_set1[['Sample ID', 'Country', 'Dating']],Whole_predictions],axis=1)\n",
        "Whole_predictions_final = Whole_predictions\n",
        "Whole_predictions_final['Mean date (BP)'] = Whole_predictions_final['Mean date (BP)'].astype('float')\n",
        "Whole_predictions_final[\"difference\"] = abs(Whole_predictions_final['TPS predicted date (BP)']-Whole_predictions_final['Mean date (BP)'])\n",
        "\n",
        "X_Brandysek = Brandysek_inds_in_Ancients[Brandysek_inds_in_Ancients.columns.difference(['Sample ID', 'Dating', 'Country', 'Mean date (BP)', 'STD'])]\n",
        "y_Brandysek = Brandysek_inds_in_Ancients['Mean date (BP)']\n",
        "Brandysek_inds_in_Ancients1 = Brandysek_inds_in_Ancients.copy()\n",
        "Brandysek_inds_in_Ancients_predictions = X_Brandysek.copy()\n",
        "Brandysek_inds_in_Ancients_predictions['Mean date (BP)'] = y_Brandysek\n",
        "Brandysek_inds_in_Ancients_predictions['TPS predicted date (BP)'] = loaded_model.predict(X_Brandysek).round()\n",
        "Brandysek_inds_in_Ancients_predictions = pd.concat([Brandysek_inds_in_Ancients1[['Sample ID', 'Country', 'Dating']],Brandysek_inds_in_Ancients_predictions],axis=1)\n",
        "Brandysek_inds_in_Ancients_predictions[\"difference\"] = abs(Brandysek_inds_in_Ancients_predictions['TPS predicted date (BP)']-Brandysek_inds_in_Ancients_predictions['Mean date (BP)'])\n",
        "Brandysek_inds_in_Ancients_predictions = Brandysek_inds_in_Ancients_predictions[[ 'Sample ID','AncientComponent1', 'AncientComponent2','AncientComponent3', 'AncientComponent4', 'AncientComponent5', 'ModernComponent1',\n",
        "                'ModernComponent2', 'ModernComponent3', 'Country', 'Dating', 'Mean date (BP)','TPS predicted date (BP)','difference']]\n",
        "test_predictions_final.head(2)"
      ]
    },
    {
      "cell_type": "markdown",
      "metadata": {
        "id": "f75vWbJJXsx-"
      },
      "source": [
        "## **Evaluation**"
      ]
    },
    {
      "cell_type": "code",
      "execution_count": 12,
      "metadata": {
        "colab": {
          "base_uri": "https://localhost:8080/"
        },
        "id": "LWKnUDJyFyo2",
        "outputId": "ebffbffa-e893-4840-a828-d33cbf46e259"
      },
      "outputs": [
        {
          "name": "stdout",
          "output_type": "stream",
          "text": [
            "Test set evaluation:\n",
            "_____________________________________\n",
            "MAE: 473.93159244264507\n",
            "MSE: 626191.5373375168\n",
            "RMSE: 791.3226505904635\n",
            "R2 Square 0.8784934862146079\n",
            "__________________________________\n",
            "Train set evaluation:\n",
            "_____________________________________\n",
            "MAE: 229.4164902573972\n",
            "MSE: 177432.94322831367\n",
            "RMSE: 421.22789939451263\n",
            "R2 Square 0.9659402174905337\n",
            "__________________________________\n"
          ]
        }
      ],
      "source": [
        "def evaluate(y, yhat, model, X):\n",
        "    mae = metrics.mean_absolute_error(y, yhat)\n",
        "    mse = metrics.mean_squared_error(y, yhat)\n",
        "    rmse = np.sqrt(metrics.mean_squared_error(y, yhat))\n",
        "    r2_square = model.score(X, y)\n",
        "    print('MAE:', mae)\n",
        "    print('MSE:', mse)\n",
        "    print('RMSE:', rmse)\n",
        "    print('R2 Square', r2_square)\n",
        "    print('__________________________________')\n",
        "\n",
        "test_pred = loaded_model.predict(X_test)\n",
        "train_pred = loaded_model.predict(X_train)\n",
        "\n",
        "print('Test set evaluation:\\n_____________________________________')\n",
        "evaluate(y_test, test_pred, loaded_model, X_test)\n",
        "\n",
        "print('Train set evaluation:\\n_____________________________________')\n",
        "evaluate(y_train, train_pred, loaded_model, X_train)    "
      ]
    }
  ],
  "metadata": {
    "colab": {
      "collapsed_sections": [],
      "name": "GitHub.ipynb",
      "provenance": []
    },
    "kernelspec": {
      "display_name": "Python 3",
      "name": "python3"
    },
    "language_info": {
      "codemirror_mode": {
        "name": "ipython",
        "version": 3
      },
      "file_extension": ".py",
      "mimetype": "text/x-python",
      "name": "python",
      "nbconvert_exporter": "python",
      "pygments_lexer": "ipython3",
      "version": "3.8.10"
    }
  },
  "nbformat": 4,
  "nbformat_minor": 0
}
