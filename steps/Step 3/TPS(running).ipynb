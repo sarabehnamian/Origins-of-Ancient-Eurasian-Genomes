{
  "cells": [
    {
      "cell_type": "markdown",
      "metadata": {
        "id": "8bTj9x2wluJA"
      },
      "source": [
        "## Testing TPS"
      ]
    },
    {
      "cell_type": "markdown",
      "metadata": {
        "id": "5nbjDtqqi2m-"
      },
      "source": [
        "TPS will be used in this notebook to predict merge.8.Q, the output of ADMIXTURE. Only the first 961 rows are of interest and are the input for TPS.\n",
        "\n"
      ]
    },
    {
      "cell_type": "markdown",
      "metadata": {
        "id": "2ffzwelllblg"
      },
      "source": [
        "## Solution Steps:\n",
        "\n",
        "1. Load Data ('merge.8.Q' data file)  \n",
        "2. Feature Engineering  \n",
        " [exactly like](https://colab.research.google.com/drive/12uu_imAIIHzo0uzfHWSPJA2HkwrI6EJL#scrollTo=2ffzwelllblg&line=5&uniqifier=1)\n",
        "3. Use the Model (Prediction)  \n",
        "[TPS model](https://https://github.com/sarabehnamian/Origins-of-Ancient-Eurasian-Genomes/blob/main/solution.ipynb)"
      ]
    },
    {
      "cell_type": "markdown",
      "metadata": {
        "id": "Cdf02feR5rUg"
      },
      "source": [
        "**Import Libraries**"
      ]
    },
    {
      "cell_type": "code",
      "execution_count": 1,
      "metadata": {
        "id": "vUBSbvcYI342"
      },
      "outputs": [],
      "source": [
        "import pandas as pd\n",
        "import pickle\n",
        "import warnings\n",
        "warnings.filterwarnings('ignore')"
      ]
    },
    {
      "cell_type": "markdown",
      "metadata": {
        "id": "si4AS07b53ab"
      },
      "source": [
        "**Load Data**"
      ]
    },
    {
      "cell_type": "code",
      "execution_count": 2,
      "metadata": {
        "id": "RTUf0cwJI349"
      },
      "outputs": [
        {
          "data": {
            "text/html": [
              "<div>\n",
              "<style scoped>\n",
              "    .dataframe tbody tr th:only-of-type {\n",
              "        vertical-align: middle;\n",
              "    }\n",
              "\n",
              "    .dataframe tbody tr th {\n",
              "        vertical-align: top;\n",
              "    }\n",
              "\n",
              "    .dataframe thead th {\n",
              "        text-align: right;\n",
              "    }\n",
              "</style>\n",
              "<table border=\"1\" class=\"dataframe\">\n",
              "  <thead>\n",
              "    <tr style=\"text-align: right;\">\n",
              "      <th></th>\n",
              "      <th>AncientComponent1</th>\n",
              "      <th>AncientComponent2</th>\n",
              "      <th>AncientComponent3</th>\n",
              "      <th>AncientComponent4</th>\n",
              "      <th>AncientComponent5</th>\n",
              "      <th>ModernComponent1</th>\n",
              "      <th>ModernComponent2</th>\n",
              "      <th>ModernComponent3</th>\n",
              "    </tr>\n",
              "  </thead>\n",
              "  <tbody>\n",
              "    <tr>\n",
              "      <th>0</th>\n",
              "      <td>0.00001</td>\n",
              "      <td>0.00001</td>\n",
              "      <td>0.00001</td>\n",
              "      <td>0.00001</td>\n",
              "      <td>0.00001</td>\n",
              "      <td>0.00001</td>\n",
              "      <td>0.996609</td>\n",
              "      <td>0.003331</td>\n",
              "    </tr>\n",
              "    <tr>\n",
              "      <th>1</th>\n",
              "      <td>0.00001</td>\n",
              "      <td>0.00001</td>\n",
              "      <td>0.00001</td>\n",
              "      <td>0.00001</td>\n",
              "      <td>0.00001</td>\n",
              "      <td>0.00001</td>\n",
              "      <td>0.999930</td>\n",
              "      <td>0.000010</td>\n",
              "    </tr>\n",
              "    <tr>\n",
              "      <th>2</th>\n",
              "      <td>0.00001</td>\n",
              "      <td>0.00001</td>\n",
              "      <td>0.00001</td>\n",
              "      <td>0.00001</td>\n",
              "      <td>0.00001</td>\n",
              "      <td>0.00001</td>\n",
              "      <td>0.999930</td>\n",
              "      <td>0.000010</td>\n",
              "    </tr>\n",
              "    <tr>\n",
              "      <th>3</th>\n",
              "      <td>0.00001</td>\n",
              "      <td>0.00001</td>\n",
              "      <td>0.00001</td>\n",
              "      <td>0.00001</td>\n",
              "      <td>0.00001</td>\n",
              "      <td>0.00001</td>\n",
              "      <td>0.999930</td>\n",
              "      <td>0.000010</td>\n",
              "    </tr>\n",
              "    <tr>\n",
              "      <th>4</th>\n",
              "      <td>0.00001</td>\n",
              "      <td>0.00001</td>\n",
              "      <td>0.00001</td>\n",
              "      <td>0.00001</td>\n",
              "      <td>0.00001</td>\n",
              "      <td>0.00001</td>\n",
              "      <td>0.999930</td>\n",
              "      <td>0.000010</td>\n",
              "    </tr>\n",
              "  </tbody>\n",
              "</table>\n",
              "</div>"
            ],
            "text/plain": [
              "   AncientComponent1  AncientComponent2  AncientComponent3  AncientComponent4  \\\n",
              "0            0.00001            0.00001            0.00001            0.00001   \n",
              "1            0.00001            0.00001            0.00001            0.00001   \n",
              "2            0.00001            0.00001            0.00001            0.00001   \n",
              "3            0.00001            0.00001            0.00001            0.00001   \n",
              "4            0.00001            0.00001            0.00001            0.00001   \n",
              "\n",
              "   AncientComponent5  ModernComponent1  ModernComponent2  ModernComponent3  \n",
              "0            0.00001           0.00001          0.996609          0.003331  \n",
              "1            0.00001           0.00001          0.999930          0.000010  \n",
              "2            0.00001           0.00001          0.999930          0.000010  \n",
              "3            0.00001           0.00001          0.999930          0.000010  \n",
              "4            0.00001           0.00001          0.999930          0.000010  "
            ]
          },
          "execution_count": 2,
          "metadata": {},
          "output_type": "execute_result"
        }
      ],
      "source": [
        "data = input(\"Please enter data file name (example: merge.8.Q) :\") or 'merge.8.Q'\n",
        "df = pd.read_csv(data, sep=' ',names=['AncientComponent1', 'AncientComponent2','AncientComponent3','AncientComponent4', 'AncientComponent5', 'ModernComponent1',\n",
        "                     'ModernComponent2','ModernComponent3']) \n",
        "df = df.head(961)\n",
        "df.head(5)\n"
      ]
    },
    {
      "cell_type": "code",
      "execution_count": 3,
      "metadata": {},
      "outputs": [
        {
          "name": "stdout",
          "output_type": "stream",
          "text": [
            "merge.8.Q\n"
          ]
        }
      ],
      "source": [
        "print(data)"
      ]
    },
    {
      "cell_type": "markdown",
      "metadata": {
        "id": "Xzh4-2lc5zDL"
      },
      "source": [
        "**Feature Engineering**"
      ]
    },
    {
      "cell_type": "code",
      "execution_count": 4,
      "metadata": {
        "id": "Yw0W46XII35D"
      },
      "outputs": [],
      "source": [
        "df['mean_Ancient_columns'] = df.loc[:,['AncientComponent1','AncientComponent2','AncientComponent3','AncientComponent4','AncientComponent5']].mean(axis=1)  \n",
        "AncientComponent1_mean = df['AncientComponent1'].mean()\n",
        "df['AncientComponent1_diff_mean'] = abs(df['AncientComponent1'] - AncientComponent1_mean)  \n",
        "df['AncientComponent1'] = df['AncientComponent1']+(3*df['AncientComponent1_diff_mean'])"
      ]
    },
    {
      "cell_type": "markdown",
      "metadata": {
        "id": "mKSP_hQu6GGM"
      },
      "source": [
        "**Use the Model**"
      ]
    },
    {
      "cell_type": "code",
      "execution_count": 5,
      "metadata": {
        "colab": {
          "base_uri": "https://localhost:8080/"
        },
        "id": "Ud4QieRKJF6W",
        "outputId": "89dc3448-de27-4313-fee2-9355c655667b"
      },
      "outputs": [
        {
          "data": {
            "text/plain": [
              "951    3175.0\n",
              "952    3315.0\n",
              "953    3335.0\n",
              "954    5061.0\n",
              "955    2820.0\n",
              "956    2820.0\n",
              "957    2820.0\n",
              "958    3001.0\n",
              "959    2831.0\n",
              "960    3136.0\n",
              "Name: TPS predicted date (BP), dtype: float64"
            ]
          },
          "execution_count": 5,
          "metadata": {},
          "output_type": "execute_result"
        }
      ],
      "source": [
        "# load the model\n",
        "loaded_model = pickle.load(open('random_model.pkl', 'rb'))\n",
        "df['TPS predicted date (BP)'] = loaded_model.predict(df).round()\n",
        "df['TPS predicted date (BP)'].tail(10) "
      ]
    },
    {
      "cell_type": "code",
      "execution_count": 6,
      "metadata": {
        "id": "WYQNIN1_Kl4I"
      },
      "outputs": [],
      "source": [
        "#save the output as an Excel file\n",
        "outputfile_name = input(\"Please enter output file name (example: mergq.xlsx):\") or 'mergq.xlsx'\n",
        "df.to_excel(outputfile_name,index=None)"
      ]
    }
  ],
  "metadata": {
    "colab": {
      "collapsed_sections": [],
      "name": "TestingTPS.ipynb",
      "provenance": []
    },
    "interpreter": {
      "hash": "348238a18896d19e9261df0c31a0abee1ce348a2525a8ac4f9aa0b0d7644ffa2"
    },
    "kernelspec": {
      "display_name": "Python 3.8.10 64-bit",
      "language": "python",
      "name": "python3"
    },
    "language_info": {
      "codemirror_mode": {
        "name": "ipython",
        "version": 3
      },
      "file_extension": ".py",
      "mimetype": "text/x-python",
      "name": "python",
      "nbconvert_exporter": "python",
      "pygments_lexer": "ipython3",
      "version": "3.8.10"
    },
    "orig_nbformat": 4
  },
  "nbformat": 4,
  "nbformat_minor": 0
}
